{
 "cells": [
  {
   "cell_type": "markdown",
   "metadata": {},
   "source": [
    "![Königsweg Logo](../img/koenigsweg_150.png)"
   ]
  },
  {
   "cell_type": "markdown",
   "metadata": {},
   "source": [
    "<span style=\"font-size: small;float: right;\">&copy; 2015-2018 Alexander C.S. Hendorf, <a href=\"http://koenigsweg.com\">Königsweg GmbH</a>, Mannheim </span>"
   ]
  },
  {
   "cell_type": "markdown",
   "metadata": {},
   "source": [
    "---"
   ]
  },
  {
   "cell_type": "markdown",
   "metadata": {},
   "source": [
    "# Data Wrangling and Visualisation with Juypter and Pandas"
   ]
  },
  {
   "cell_type": "markdown",
   "metadata": {},
   "source": [
    "---"
   ]
  },
  {
   "cell_type": "markdown",
   "metadata": {},
   "source": [
    "# DateTime Index & Resampling"
   ]
  },
  {
   "cell_type": "markdown",
   "metadata": {},
   "source": [
    "---"
   ]
  },
  {
   "cell_type": "code",
   "execution_count": 1,
   "metadata": {
    "collapsed": true
   },
   "outputs": [],
   "source": [
    "import numpy as np\n",
    "import pandas as pd\n",
    "%matplotlib inline"
   ]
  },
  {
   "cell_type": "markdown",
   "metadata": {},
   "source": [
    "### DateTimeIndex"
   ]
  },
  {
   "cell_type": "markdown",
   "metadata": {},
   "source": [
    "Pandas logic was inspired by SQL."
   ]
  },
  {
   "cell_type": "code",
   "execution_count": 2,
   "metadata": {},
   "outputs": [
    {
     "data": {
      "text/html": [
       "<div>\n",
       "<style scoped>\n",
       "    .dataframe tbody tr th:only-of-type {\n",
       "        vertical-align: middle;\n",
       "    }\n",
       "\n",
       "    .dataframe tbody tr th {\n",
       "        vertical-align: top;\n",
       "    }\n",
       "\n",
       "    .dataframe thead th {\n",
       "        text-align: right;\n",
       "    }\n",
       "</style>\n",
       "<table border=\"1\" class=\"dataframe\">\n",
       "  <thead>\n",
       "    <tr style=\"text-align: right;\">\n",
       "      <th></th>\n",
       "      <th>name</th>\n",
       "      <th>birthday</th>\n",
       "      <th>customer</th>\n",
       "      <th>orderdate</th>\n",
       "      <th>product</th>\n",
       "      <th>units</th>\n",
       "      <th>unitprice</th>\n",
       "      <th>turnover</th>\n",
       "    </tr>\n",
       "  </thead>\n",
       "  <tbody>\n",
       "    <tr>\n",
       "      <th>0</th>\n",
       "      <td>Pasquale</td>\n",
       "      <td>1967-09-02</td>\n",
       "      <td>Electronics Inc</td>\n",
       "      <td>2016-07-17 13:48:03.157</td>\n",
       "      <td>Thriller record</td>\n",
       "      <td>2</td>\n",
       "      <td>13.27</td>\n",
       "      <td>26.54</td>\n",
       "    </tr>\n",
       "    <tr>\n",
       "      <th>1</th>\n",
       "      <td>India</td>\n",
       "      <td>1968-12-13</td>\n",
       "      <td>Electronics Resource Group</td>\n",
       "      <td>2016-07-06 13:48:03.157</td>\n",
       "      <td>Corolla</td>\n",
       "      <td>26</td>\n",
       "      <td>24458.69</td>\n",
       "      <td>635925.94</td>\n",
       "    </tr>\n",
       "    <tr>\n",
       "      <th>2</th>\n",
       "      <td>Wayne</td>\n",
       "      <td>1992-09-10</td>\n",
       "      <td>East Application Contract Inc</td>\n",
       "      <td>2016-07-22 13:48:03.157</td>\n",
       "      <td>Rubik’s Cube</td>\n",
       "      <td>41</td>\n",
       "      <td>15.79</td>\n",
       "      <td>647.39</td>\n",
       "    </tr>\n",
       "    <tr>\n",
       "      <th>3</th>\n",
       "      <td>Cori</td>\n",
       "      <td>1986-11-05</td>\n",
       "      <td>Signal Industries</td>\n",
       "      <td>2016-07-23 13:48:03.157</td>\n",
       "      <td>iPhone</td>\n",
       "      <td>16</td>\n",
       "      <td>584.01</td>\n",
       "      <td>9344.16</td>\n",
       "    </tr>\n",
       "    <tr>\n",
       "      <th>4</th>\n",
       "      <td>Chang</td>\n",
       "      <td>1972-04-23</td>\n",
       "      <td>Star Alpha Industries</td>\n",
       "      <td>2016-07-16 13:48:03.157</td>\n",
       "      <td>Harry Potter book</td>\n",
       "      <td>4</td>\n",
       "      <td>25.69</td>\n",
       "      <td>102.76</td>\n",
       "    </tr>\n",
       "  </tbody>\n",
       "</table>\n",
       "</div>"
      ],
      "text/plain": [
       "       name   birthday                       customer               orderdate  \\\n",
       "0  Pasquale 1967-09-02                Electronics Inc 2016-07-17 13:48:03.157   \n",
       "1     India 1968-12-13     Electronics Resource Group 2016-07-06 13:48:03.157   \n",
       "2     Wayne 1992-09-10  East Application Contract Inc 2016-07-22 13:48:03.157   \n",
       "3      Cori 1986-11-05              Signal Industries 2016-07-23 13:48:03.157   \n",
       "4     Chang 1972-04-23          Star Alpha Industries 2016-07-16 13:48:03.157   \n",
       "\n",
       "             product  units  unitprice   turnover  \n",
       "0    Thriller record      2      13.27      26.54  \n",
       "1            Corolla     26   24458.69  635925.94  \n",
       "2       Rubik’s Cube     41      15.79     647.39  \n",
       "3             iPhone     16     584.01    9344.16  \n",
       "4  Harry Potter book      4      25.69     102.76  "
      ]
     },
     "execution_count": 2,
     "metadata": {},
     "output_type": "execute_result"
    }
   ],
   "source": [
    "sales_data = pd.read_excel('../data/blooth_sales_data_clean.xlsx')\n",
    "sales_data['turnover'] = sales_data['units'] * sales_data['unitprice']\n",
    "sales_data.head(5)"
   ]
  },
  {
   "cell_type": "code",
   "execution_count": 3,
   "metadata": {},
   "outputs": [
    {
     "data": {
      "text/html": [
       "<div>\n",
       "<style scoped>\n",
       "    .dataframe tbody tr th:only-of-type {\n",
       "        vertical-align: middle;\n",
       "    }\n",
       "\n",
       "    .dataframe tbody tr th {\n",
       "        vertical-align: top;\n",
       "    }\n",
       "\n",
       "    .dataframe thead th {\n",
       "        text-align: right;\n",
       "    }\n",
       "</style>\n",
       "<table border=\"1\" class=\"dataframe\">\n",
       "  <thead>\n",
       "    <tr style=\"text-align: right;\">\n",
       "      <th></th>\n",
       "      <th>name</th>\n",
       "      <th>birthday</th>\n",
       "      <th>customer</th>\n",
       "      <th>orderdate</th>\n",
       "      <th>product</th>\n",
       "      <th>units</th>\n",
       "      <th>unitprice</th>\n",
       "      <th>turnover</th>\n",
       "    </tr>\n",
       "    <tr>\n",
       "      <th>orderdate</th>\n",
       "      <th></th>\n",
       "      <th></th>\n",
       "      <th></th>\n",
       "      <th></th>\n",
       "      <th></th>\n",
       "      <th></th>\n",
       "      <th></th>\n",
       "      <th></th>\n",
       "    </tr>\n",
       "  </thead>\n",
       "  <tbody>\n",
       "    <tr>\n",
       "      <th>2016-07-17 13:48:03.157</th>\n",
       "      <td>Pasquale</td>\n",
       "      <td>1967-09-02</td>\n",
       "      <td>Electronics Inc</td>\n",
       "      <td>2016-07-17 13:48:03.157</td>\n",
       "      <td>Thriller record</td>\n",
       "      <td>2</td>\n",
       "      <td>13.27</td>\n",
       "      <td>26.54</td>\n",
       "    </tr>\n",
       "    <tr>\n",
       "      <th>2016-07-06 13:48:03.157</th>\n",
       "      <td>India</td>\n",
       "      <td>1968-12-13</td>\n",
       "      <td>Electronics Resource Group</td>\n",
       "      <td>2016-07-06 13:48:03.157</td>\n",
       "      <td>Corolla</td>\n",
       "      <td>26</td>\n",
       "      <td>24458.69</td>\n",
       "      <td>635925.94</td>\n",
       "    </tr>\n",
       "    <tr>\n",
       "      <th>2016-07-22 13:48:03.157</th>\n",
       "      <td>Wayne</td>\n",
       "      <td>1992-09-10</td>\n",
       "      <td>East Application Contract Inc</td>\n",
       "      <td>2016-07-22 13:48:03.157</td>\n",
       "      <td>Rubik’s Cube</td>\n",
       "      <td>41</td>\n",
       "      <td>15.79</td>\n",
       "      <td>647.39</td>\n",
       "    </tr>\n",
       "    <tr>\n",
       "      <th>2016-07-23 13:48:03.157</th>\n",
       "      <td>Cori</td>\n",
       "      <td>1986-11-05</td>\n",
       "      <td>Signal Industries</td>\n",
       "      <td>2016-07-23 13:48:03.157</td>\n",
       "      <td>iPhone</td>\n",
       "      <td>16</td>\n",
       "      <td>584.01</td>\n",
       "      <td>9344.16</td>\n",
       "    </tr>\n",
       "    <tr>\n",
       "      <th>2016-07-16 13:48:03.157</th>\n",
       "      <td>Chang</td>\n",
       "      <td>1972-04-23</td>\n",
       "      <td>Star Alpha Industries</td>\n",
       "      <td>2016-07-16 13:48:03.157</td>\n",
       "      <td>Harry Potter book</td>\n",
       "      <td>4</td>\n",
       "      <td>25.69</td>\n",
       "      <td>102.76</td>\n",
       "    </tr>\n",
       "  </tbody>\n",
       "</table>\n",
       "</div>"
      ],
      "text/plain": [
       "                             name   birthday                       customer  \\\n",
       "orderdate                                                                     \n",
       "2016-07-17 13:48:03.157  Pasquale 1967-09-02                Electronics Inc   \n",
       "2016-07-06 13:48:03.157     India 1968-12-13     Electronics Resource Group   \n",
       "2016-07-22 13:48:03.157     Wayne 1992-09-10  East Application Contract Inc   \n",
       "2016-07-23 13:48:03.157      Cori 1986-11-05              Signal Industries   \n",
       "2016-07-16 13:48:03.157     Chang 1972-04-23          Star Alpha Industries   \n",
       "\n",
       "                                      orderdate            product  units  \\\n",
       "orderdate                                                                   \n",
       "2016-07-17 13:48:03.157 2016-07-17 13:48:03.157    Thriller record      2   \n",
       "2016-07-06 13:48:03.157 2016-07-06 13:48:03.157            Corolla     26   \n",
       "2016-07-22 13:48:03.157 2016-07-22 13:48:03.157       Rubik’s Cube     41   \n",
       "2016-07-23 13:48:03.157 2016-07-23 13:48:03.157             iPhone     16   \n",
       "2016-07-16 13:48:03.157 2016-07-16 13:48:03.157  Harry Potter book      4   \n",
       "\n",
       "                         unitprice   turnover  \n",
       "orderdate                                      \n",
       "2016-07-17 13:48:03.157      13.27      26.54  \n",
       "2016-07-06 13:48:03.157   24458.69  635925.94  \n",
       "2016-07-22 13:48:03.157      15.79     647.39  \n",
       "2016-07-23 13:48:03.157     584.01    9344.16  \n",
       "2016-07-16 13:48:03.157      25.69     102.76  "
      ]
     },
     "execution_count": 3,
     "metadata": {},
     "output_type": "execute_result"
    }
   ],
   "source": [
    "sales_data.index = sales_data['orderdate']\n",
    "sales_data.head(5)"
   ]
  },
  {
   "cell_type": "code",
   "execution_count": 4,
   "metadata": {},
   "outputs": [
    {
     "data": {
      "text/html": [
       "<div>\n",
       "<style scoped>\n",
       "    .dataframe tbody tr th:only-of-type {\n",
       "        vertical-align: middle;\n",
       "    }\n",
       "\n",
       "    .dataframe tbody tr th {\n",
       "        vertical-align: top;\n",
       "    }\n",
       "\n",
       "    .dataframe thead th {\n",
       "        text-align: right;\n",
       "    }\n",
       "</style>\n",
       "<table border=\"1\" class=\"dataframe\">\n",
       "  <thead>\n",
       "    <tr style=\"text-align: right;\">\n",
       "      <th></th>\n",
       "      <th>units</th>\n",
       "      <th>unitprice</th>\n",
       "      <th>turnover</th>\n",
       "    </tr>\n",
       "    <tr>\n",
       "      <th>orderdate</th>\n",
       "      <th></th>\n",
       "      <th></th>\n",
       "      <th></th>\n",
       "    </tr>\n",
       "  </thead>\n",
       "  <tbody>\n",
       "    <tr>\n",
       "      <th>Friday</th>\n",
       "      <td>24.958333</td>\n",
       "      <td>2191.905000</td>\n",
       "      <td>68031.563125</td>\n",
       "    </tr>\n",
       "    <tr>\n",
       "      <th>Monday</th>\n",
       "      <td>26.961039</td>\n",
       "      <td>2029.196753</td>\n",
       "      <td>50831.003766</td>\n",
       "    </tr>\n",
       "    <tr>\n",
       "      <th>Saturday</th>\n",
       "      <td>27.467626</td>\n",
       "      <td>1430.240791</td>\n",
       "      <td>39743.422662</td>\n",
       "    </tr>\n",
       "    <tr>\n",
       "      <th>Sunday</th>\n",
       "      <td>24.482270</td>\n",
       "      <td>2693.664113</td>\n",
       "      <td>65708.101986</td>\n",
       "    </tr>\n",
       "    <tr>\n",
       "      <th>Thursday</th>\n",
       "      <td>26.946746</td>\n",
       "      <td>1992.235621</td>\n",
       "      <td>54042.491657</td>\n",
       "    </tr>\n",
       "    <tr>\n",
       "      <th>Tuesday</th>\n",
       "      <td>24.992908</td>\n",
       "      <td>2043.443404</td>\n",
       "      <td>60551.479007</td>\n",
       "    </tr>\n",
       "    <tr>\n",
       "      <th>Wednesday</th>\n",
       "      <td>24.535714</td>\n",
       "      <td>3315.356429</td>\n",
       "      <td>68836.291875</td>\n",
       "    </tr>\n",
       "  </tbody>\n",
       "</table>\n",
       "</div>"
      ],
      "text/plain": [
       "               units    unitprice      turnover\n",
       "orderdate                                      \n",
       "Friday     24.958333  2191.905000  68031.563125\n",
       "Monday     26.961039  2029.196753  50831.003766\n",
       "Saturday   27.467626  1430.240791  39743.422662\n",
       "Sunday     24.482270  2693.664113  65708.101986\n",
       "Thursday   26.946746  1992.235621  54042.491657\n",
       "Tuesday    24.992908  2043.443404  60551.479007\n",
       "Wednesday  24.535714  3315.356429  68836.291875"
      ]
     },
     "execution_count": 4,
     "metadata": {},
     "output_type": "execute_result"
    }
   ],
   "source": [
    "byday = sales_data.groupby(sales_data.index.weekday_name).mean()\n",
    "byday"
   ]
  },
  {
   "cell_type": "code",
   "execution_count": 5,
   "metadata": {},
   "outputs": [
    {
     "data": {
      "text/plain": [
       "Index(['Friday', 'Monday', 'Saturday', 'Sunday', 'Thursday', 'Tuesday',\n",
       "       'Wednesday'],\n",
       "      dtype='object', name='orderdate')"
      ]
     },
     "execution_count": 5,
     "metadata": {},
     "output_type": "execute_result"
    }
   ],
   "source": [
    "byday.index"
   ]
  },
  {
   "cell_type": "code",
   "execution_count": 6,
   "metadata": {},
   "outputs": [
    {
     "data": {
      "text/plain": [
       "<matplotlib.axes._subplots.AxesSubplot at 0x1120fd518>"
      ]
     },
     "execution_count": 6,
     "metadata": {},
     "output_type": "execute_result"
    },
    {
     "data": {
      "image/png": "[encoded data removed]",
      "text/plain": [
       "<matplotlib.figure.Figure at 0x1120fda90>"
      ]
     },
     "metadata": {},
     "output_type": "display_data"
    }
   ],
   "source": [
    "byday.sort_values('turnover')['turnover'].plot.bar()"
   ]
  },
  {
   "cell_type": "code",
   "execution_count": 7,
   "metadata": {},
   "outputs": [
    {
     "data": {
      "image/png": "[encoded data removed]",
      "text/plain": [
       "<matplotlib.figure.Figure at 0x1154bae10>"
      ]
     },
     "metadata": {},
     "output_type": "display_data"
    }
   ],
   "source": [
    "sales_data.groupby(sales_data.index.date).count()['customer'].plot(figsize=(10, 4));"
   ]
  },
  {
   "cell_type": "code",
   "execution_count": 8,
   "metadata": {},
   "outputs": [
    {
     "data": {
      "image/png": "[encoded data removed]",
      "text/plain": [
       "<matplotlib.figure.Figure at 0x111481630>"
      ]
     },
     "metadata": {},
     "output_type": "display_data"
    }
   ],
   "source": [
    "sales_data['turnover'].plot();"
   ]
  },
  {
   "cell_type": "markdown",
   "metadata": {},
   "source": [
    "---"
   ]
  },
  {
   "cell_type": "markdown",
   "metadata": {},
   "source": [
    "#### Excercise"
   ]
  },
  {
   "cell_type": "markdown",
   "metadata": {},
   "source": [
    "Calcualte sum of the *turnover* per week and plot it in a barchart."
   ]
  },
  {
   "cell_type": "code",
   "execution_count": 9,
   "metadata": {},
   "outputs": [],
   "source": [
    "# your code here\n"
   ]
  },
  {
   "cell_type": "code",
   "execution_count": null,
   "metadata": {
    "collapsed": true
   },
   "outputs": [],
   "source": [
    "# load solution\n",
    "%load ../solutions/601.py"
   ]
  },
  {
   "cell_type": "code",
   "execution_count": null,
   "metadata": {
    "collapsed": true
   },
   "outputs": [],
   "source": []
  },
  {
   "cell_type": "markdown",
   "metadata": {},
   "source": [
    "Calculate the *turnover* for the days on the weekend of every week and plot it as barchart."
   ]
  },
  {
   "cell_type": "code",
   "execution_count": 32,
   "metadata": {
    "collapsed": true
   },
   "outputs": [],
   "source": [
    "# your code here\n"
   ]
  },
  {
   "cell_type": "code",
   "execution_count": null,
   "metadata": {
    "collapsed": true
   },
   "outputs": [],
   "source": [
    "# load solution\n",
    "%load ../solutions/602.py"
   ]
  },
  {
   "cell_type": "markdown",
   "metadata": {},
   "source": [
    " ---"
   ]
  },
  {
   "cell_type": "markdown",
   "metadata": {},
   "source": [
    "#### Resampling"
   ]
  },
  {
   "cell_type": "markdown",
   "metadata": {},
   "source": [
    "Another way..."
   ]
  },
  {
   "cell_type": "code",
   "execution_count": 33,
   "metadata": {},
   "outputs": [
    {
     "data": {
      "text/html": [
       "<div>\n",
       "<style>\n",
       "    .dataframe thead tr:only-child th {\n",
       "        text-align: right;\n",
       "    }\n",
       "\n",
       "    .dataframe thead th {\n",
       "        text-align: left;\n",
       "    }\n",
       "\n",
       "    .dataframe tbody tr th {\n",
       "        vertical-align: top;\n",
       "    }\n",
       "</style>\n",
       "<table border=\"1\" class=\"dataframe\">\n",
       "  <thead>\n",
       "    <tr style=\"text-align: right;\">\n",
       "      <th></th>\n",
       "      <th>name</th>\n",
       "      <th>birthday</th>\n",
       "      <th>customer</th>\n",
       "      <th>orderdate</th>\n",
       "      <th>product</th>\n",
       "      <th>units</th>\n",
       "      <th>unitprice</th>\n",
       "      <th>turnover</th>\n",
       "    </tr>\n",
       "    <tr>\n",
       "      <th>orderdate</th>\n",
       "      <th></th>\n",
       "      <th></th>\n",
       "      <th></th>\n",
       "      <th></th>\n",
       "      <th></th>\n",
       "      <th></th>\n",
       "      <th></th>\n",
       "      <th></th>\n",
       "    </tr>\n",
       "  </thead>\n",
       "  <tbody>\n",
       "    <tr>\n",
       "      <th>2016-07-17 13:48:03.157</th>\n",
       "      <td>Pasquale</td>\n",
       "      <td>1967-09-02</td>\n",
       "      <td>Electronics Inc</td>\n",
       "      <td>2016-07-17 13:48:03.157</td>\n",
       "      <td>Thriller record</td>\n",
       "      <td>2</td>\n",
       "      <td>13.27</td>\n",
       "      <td>26.54</td>\n",
       "    </tr>\n",
       "    <tr>\n",
       "      <th>2016-07-06 13:48:03.157</th>\n",
       "      <td>India</td>\n",
       "      <td>1968-12-13</td>\n",
       "      <td>Electronics Resource Group</td>\n",
       "      <td>2016-07-06 13:48:03.157</td>\n",
       "      <td>Corolla</td>\n",
       "      <td>26</td>\n",
       "      <td>24458.69</td>\n",
       "      <td>635925.94</td>\n",
       "    </tr>\n",
       "    <tr>\n",
       "      <th>2016-07-22 13:48:03.157</th>\n",
       "      <td>Wayne</td>\n",
       "      <td>1992-09-10</td>\n",
       "      <td>East Application Contract Inc</td>\n",
       "      <td>2016-07-22 13:48:03.157</td>\n",
       "      <td>Rubik’s Cube</td>\n",
       "      <td>41</td>\n",
       "      <td>15.79</td>\n",
       "      <td>647.39</td>\n",
       "    </tr>\n",
       "    <tr>\n",
       "      <th>2016-07-23 13:48:03.157</th>\n",
       "      <td>Cori</td>\n",
       "      <td>1986-11-05</td>\n",
       "      <td>Signal Industries</td>\n",
       "      <td>2016-07-23 13:48:03.157</td>\n",
       "      <td>iPhone</td>\n",
       "      <td>16</td>\n",
       "      <td>584.01</td>\n",
       "      <td>9344.16</td>\n",
       "    </tr>\n",
       "    <tr>\n",
       "      <th>2016-07-16 13:48:03.157</th>\n",
       "      <td>Chang</td>\n",
       "      <td>1972-04-23</td>\n",
       "      <td>Star Alpha Industries</td>\n",
       "      <td>2016-07-16 13:48:03.157</td>\n",
       "      <td>Harry Potter book</td>\n",
       "      <td>4</td>\n",
       "      <td>25.69</td>\n",
       "      <td>102.76</td>\n",
       "    </tr>\n",
       "  </tbody>\n",
       "</table>\n",
       "</div>"
      ],
      "text/plain": [
       "                             name   birthday                       customer  \\\n",
       "orderdate                                                                     \n",
       "2016-07-17 13:48:03.157  Pasquale 1967-09-02                Electronics Inc   \n",
       "2016-07-06 13:48:03.157     India 1968-12-13     Electronics Resource Group   \n",
       "2016-07-22 13:48:03.157     Wayne 1992-09-10  East Application Contract Inc   \n",
       "2016-07-23 13:48:03.157      Cori 1986-11-05              Signal Industries   \n",
       "2016-07-16 13:48:03.157     Chang 1972-04-23          Star Alpha Industries   \n",
       "\n",
       "                                      orderdate            product  units  \\\n",
       "orderdate                                                                   \n",
       "2016-07-17 13:48:03.157 2016-07-17 13:48:03.157    Thriller record      2   \n",
       "2016-07-06 13:48:03.157 2016-07-06 13:48:03.157            Corolla     26   \n",
       "2016-07-22 13:48:03.157 2016-07-22 13:48:03.157       Rubik’s Cube     41   \n",
       "2016-07-23 13:48:03.157 2016-07-23 13:48:03.157             iPhone     16   \n",
       "2016-07-16 13:48:03.157 2016-07-16 13:48:03.157  Harry Potter book      4   \n",
       "\n",
       "                         unitprice   turnover  \n",
       "orderdate                                      \n",
       "2016-07-17 13:48:03.157      13.27      26.54  \n",
       "2016-07-06 13:48:03.157   24458.69  635925.94  \n",
       "2016-07-22 13:48:03.157      15.79     647.39  \n",
       "2016-07-23 13:48:03.157     584.01    9344.16  \n",
       "2016-07-16 13:48:03.157      25.69     102.76  "
      ]
     },
     "execution_count": 33,
     "metadata": {},
     "output_type": "execute_result"
    }
   ],
   "source": [
    "sales_data.head(5)"
   ]
  },
  {
   "cell_type": "code",
   "execution_count": 34,
   "metadata": {
    "scrolled": true
   },
   "outputs": [
    {
     "data": {
      "text/html": [
       "<div>\n",
       "<style>\n",
       "    .dataframe thead tr:only-child th {\n",
       "        text-align: right;\n",
       "    }\n",
       "\n",
       "    .dataframe thead th {\n",
       "        text-align: left;\n",
       "    }\n",
       "\n",
       "    .dataframe tbody tr th {\n",
       "        vertical-align: top;\n",
       "    }\n",
       "</style>\n",
       "<table border=\"1\" class=\"dataframe\">\n",
       "  <thead>\n",
       "    <tr style=\"text-align: right;\">\n",
       "      <th></th>\n",
       "      <th>turnover</th>\n",
       "      <th>units</th>\n",
       "    </tr>\n",
       "    <tr>\n",
       "      <th>orderdate</th>\n",
       "      <th></th>\n",
       "      <th></th>\n",
       "    </tr>\n",
       "  </thead>\n",
       "  <tbody>\n",
       "    <tr>\n",
       "      <th>2016-06-30</th>\n",
       "      <td>1143687.44</td>\n",
       "      <td>49</td>\n",
       "    </tr>\n",
       "    <tr>\n",
       "      <th>2016-07-01</th>\n",
       "      <td>1138801.50</td>\n",
       "      <td>50</td>\n",
       "    </tr>\n",
       "    <tr>\n",
       "      <th>2016-07-02</th>\n",
       "      <td>44068.12</td>\n",
       "      <td>50</td>\n",
       "    </tr>\n",
       "    <tr>\n",
       "      <th>2016-07-03</th>\n",
       "      <td>1125102.92</td>\n",
       "      <td>50</td>\n",
       "    </tr>\n",
       "    <tr>\n",
       "      <th>2016-07-04</th>\n",
       "      <td>1109942.74</td>\n",
       "      <td>50</td>\n",
       "    </tr>\n",
       "  </tbody>\n",
       "</table>\n",
       "</div>"
      ],
      "text/plain": [
       "              turnover  units\n",
       "orderdate                    \n",
       "2016-06-30  1143687.44     49\n",
       "2016-07-01  1138801.50     50\n",
       "2016-07-02    44068.12     50\n",
       "2016-07-03  1125102.92     50\n",
       "2016-07-04  1109942.74     50"
      ]
     },
     "execution_count": 34,
     "metadata": {},
     "output_type": "execute_result"
    }
   ],
   "source": [
    "sales_data[['turnover', 'units']].resample('D').max().head()"
   ]
  },
  {
   "cell_type": "code",
   "execution_count": 35,
   "metadata": {},
   "outputs": [
    {
     "data": {
      "text/plain": [
       "DatetimeIndexResampler [freq=<Day>, axis=0, closed=left, label=left, convention=start, base=0]"
      ]
     },
     "execution_count": 35,
     "metadata": {},
     "output_type": "execute_result"
    }
   ],
   "source": [
    "sales_data[['turnover', 'units']].resample('D')"
   ]
  },
  {
   "cell_type": "code",
   "execution_count": 36,
   "metadata": {},
   "outputs": [
    {
     "data": {
      "text/html": [
       "<div>\n",
       "<style>\n",
       "    .dataframe thead tr:only-child th {\n",
       "        text-align: right;\n",
       "    }\n",
       "\n",
       "    .dataframe thead th {\n",
       "        text-align: left;\n",
       "    }\n",
       "\n",
       "    .dataframe tbody tr th {\n",
       "        vertical-align: top;\n",
       "    }\n",
       "</style>\n",
       "<table border=\"1\" class=\"dataframe\">\n",
       "  <thead>\n",
       "    <tr style=\"text-align: right;\">\n",
       "      <th></th>\n",
       "      <th>turnover</th>\n",
       "      <th>units</th>\n",
       "    </tr>\n",
       "    <tr>\n",
       "      <th>orderdate</th>\n",
       "      <th></th>\n",
       "      <th></th>\n",
       "    </tr>\n",
       "  </thead>\n",
       "  <tbody>\n",
       "    <tr>\n",
       "      <th>2016-06-30 13:48:03.157</th>\n",
       "      <td>54159.150103</td>\n",
       "      <td>27.917526</td>\n",
       "    </tr>\n",
       "    <tr>\n",
       "      <th>2016-07-03 13:48:03.157</th>\n",
       "      <td>71877.548283</td>\n",
       "      <td>26.626263</td>\n",
       "    </tr>\n",
       "    <tr>\n",
       "      <th>2016-07-06 13:48:03.157</th>\n",
       "      <td>47997.281515</td>\n",
       "      <td>24.272727</td>\n",
       "    </tr>\n",
       "    <tr>\n",
       "      <th>2016-07-09 13:48:03.157</th>\n",
       "      <td>62778.548190</td>\n",
       "      <td>27.086207</td>\n",
       "    </tr>\n",
       "    <tr>\n",
       "      <th>2016-07-12 13:48:03.157</th>\n",
       "      <td>45435.739565</td>\n",
       "      <td>25.565217</td>\n",
       "    </tr>\n",
       "  </tbody>\n",
       "</table>\n",
       "</div>"
      ],
      "text/plain": [
       "                             turnover      units\n",
       "orderdate                                       \n",
       "2016-06-30 13:48:03.157  54159.150103  27.917526\n",
       "2016-07-03 13:48:03.157  71877.548283  26.626263\n",
       "2016-07-06 13:48:03.157  47997.281515  24.272727\n",
       "2016-07-09 13:48:03.157  62778.548190  27.086207\n",
       "2016-07-12 13:48:03.157  45435.739565  25.565217"
      ]
     },
     "execution_count": 36,
     "metadata": {},
     "output_type": "execute_result"
    }
   ],
   "source": [
    "sales_data[['turnover', 'units']].resample('3D').mean().head()"
   ]
  },
  {
   "cell_type": "code",
   "execution_count": 37,
   "metadata": {},
   "outputs": [
    {
     "data": {
      "image/png": "[encoded data removed]",
      "text/plain": [
       "<matplotlib.figure.Figure at 0x11b5d6dd8>"
      ]
     },
     "metadata": {},
     "output_type": "display_data"
    }
   ],
   "source": [
    "sales_data['units'].resample('D').agg([min, max]).plot(figsize=(10, 4));"
   ]
  },
  {
   "cell_type": "code",
   "execution_count": 38,
   "metadata": {},
   "outputs": [
    {
     "data": {
      "image/png": "[encoded data removed]",
      "text/plain": [
       "<matplotlib.figure.Figure at 0x11b424a90>"
      ]
     },
     "metadata": {},
     "output_type": "display_data"
    }
   ],
   "source": [
    "sales_data['units'].resample('B').mean().plot(figsize=(10, 4));"
   ]
  },
  {
   "cell_type": "markdown",
   "metadata": {},
   "source": [
    "|Code|Freq|\n",
    "|---|---|\n",
    "|H|hourly frequency|\n",
    "|T|minutely frequency|\n",
    "|S |secondly frequency|\n",
    "|L |milliseonds|\n",
    "|U |microseconds|\n",
    "|N |nanoseconds|\n",
    "|D|calendar day frequency|\n",
    "|W|weekly frequency|\n",
    "|M|month end frequency|\n",
    "|Q|quarter end frequency|\n",
    "|A|year end frequency|\n",
    "|||\n",
    "|B|business day frequency|\n",
    "|C|custom business day frequency (experimental) BM business month end frequency|\n",
    "|CBM| custom business month end frequency|\n",
    "|MS| month start frequency|\n",
    "|BMS| business month start frequency|\n",
    "|CBMS| custom business month start frequency|\n",
    "|BQ |business quarter endfrequency|\n",
    "|QS |quarter start frequency|\n",
    "|BQS |business quarter start frequency|\n",
    "|BA |business year end frequency|\n",
    "|AS |year start frequency|\n",
    "|BAS |business year start frequency|\n",
    "|BH |business hour frequency|"
   ]
  },
  {
   "cell_type": "markdown",
   "metadata": {},
   "source": [
    "---"
   ]
  },
  {
   "cell_type": "markdown",
   "metadata": {},
   "source": [
    "### Exercise"
   ]
  },
  {
   "cell_type": "markdown",
   "metadata": {},
   "source": [
    "Create a plot resampled by hours."
   ]
  },
  {
   "cell_type": "code",
   "execution_count": 39,
   "metadata": {
    "collapsed": true
   },
   "outputs": [],
   "source": [
    "# your code here\n"
   ]
  },
  {
   "cell_type": "code",
   "execution_count": null,
   "metadata": {
    "collapsed": true
   },
   "outputs": [],
   "source": [
    "# load solution\n",
    "%load ../solutions/603.py"
   ]
  },
  {
   "cell_type": "markdown",
   "metadata": {},
   "source": [
    "---"
   ]
  },
  {
   "cell_type": "markdown",
   "metadata": {},
   "source": [
    "**`.bfill() / .ffill()`**"
   ]
  },
  {
   "cell_type": "code",
   "execution_count": 18,
   "metadata": {
    "scrolled": true
   },
   "outputs": [
    {
     "data": {
      "text/plain": [
       "orderdate\n",
       "2016-06-30 12:00:00     829.0\n",
       "2016-06-30 18:00:00       NaN\n",
       "2016-07-01 00:00:00       NaN\n",
       "2016-07-01 06:00:00       NaN\n",
       "2016-07-01 12:00:00     836.0\n",
       "2016-07-01 18:00:00       NaN\n",
       "2016-07-02 00:00:00       NaN\n",
       "2016-07-02 06:00:00       NaN\n",
       "2016-07-02 12:00:00    1043.0\n",
       "2016-07-02 18:00:00       NaN\n",
       "2016-07-03 00:00:00       NaN\n",
       "2016-07-03 06:00:00       NaN\n",
       "2016-07-03 12:00:00     679.0\n",
       "2016-07-03 18:00:00       NaN\n",
       "2016-07-04 00:00:00       NaN\n",
       "2016-07-04 06:00:00       NaN\n",
       "2016-07-04 12:00:00    1135.0\n",
       "2016-07-04 18:00:00       NaN\n",
       "2016-07-05 00:00:00       NaN\n",
       "2016-07-05 06:00:00       NaN\n",
       "2016-07-05 12:00:00     822.0\n",
       "2016-07-05 18:00:00       NaN\n",
       "2016-07-06 00:00:00       NaN\n",
       "2016-07-06 06:00:00       NaN\n",
       "2016-07-06 12:00:00     978.0\n",
       "2016-07-06 18:00:00       NaN\n",
       "2016-07-07 00:00:00       NaN\n",
       "2016-07-07 06:00:00       NaN\n",
       "2016-07-07 12:00:00     835.0\n",
       "2016-07-07 18:00:00       NaN\n",
       "                        ...  \n",
       "2016-07-21 06:00:00       NaN\n",
       "2016-07-21 12:00:00    1194.0\n",
       "2016-07-21 18:00:00       NaN\n",
       "2016-07-22 00:00:00       NaN\n",
       "2016-07-22 06:00:00       NaN\n",
       "2016-07-22 12:00:00     894.0\n",
       "2016-07-22 18:00:00       NaN\n",
       "2016-07-23 00:00:00       NaN\n",
       "2016-07-23 06:00:00       NaN\n",
       "2016-07-23 12:00:00     871.0\n",
       "2016-07-23 18:00:00       NaN\n",
       "2016-07-24 00:00:00       NaN\n",
       "2016-07-24 06:00:00       NaN\n",
       "2016-07-24 12:00:00     812.0\n",
       "2016-07-24 18:00:00       NaN\n",
       "2016-07-25 00:00:00       NaN\n",
       "2016-07-25 06:00:00       NaN\n",
       "2016-07-25 12:00:00     893.0\n",
       "2016-07-25 18:00:00       NaN\n",
       "2016-07-26 00:00:00       NaN\n",
       "2016-07-26 06:00:00       NaN\n",
       "2016-07-26 12:00:00     959.0\n",
       "2016-07-26 18:00:00       NaN\n",
       "2016-07-27 00:00:00       NaN\n",
       "2016-07-27 06:00:00       NaN\n",
       "2016-07-27 12:00:00     434.0\n",
       "2016-07-27 18:00:00       NaN\n",
       "2016-07-28 00:00:00       NaN\n",
       "2016-07-28 06:00:00       NaN\n",
       "2016-07-28 12:00:00     887.0\n",
       "Freq: 6H, Name: units, Length: 113, dtype: float64"
      ]
     },
     "execution_count": 18,
     "metadata": {},
     "output_type": "execute_result"
    }
   ],
   "source": [
    "sales_data['units'].resample('6H').sum()"
   ]
  },
  {
   "cell_type": "code",
   "execution_count": 19,
   "metadata": {
    "scrolled": true
   },
   "outputs": [
    {
     "data": {
      "text/plain": [
       "orderdate\n",
       "2016-06-30 12:00:00     829.0\n",
       "2016-06-30 18:00:00     836.0\n",
       "2016-07-01 00:00:00     836.0\n",
       "2016-07-01 06:00:00     836.0\n",
       "2016-07-01 12:00:00     836.0\n",
       "2016-07-01 18:00:00    1043.0\n",
       "2016-07-02 00:00:00    1043.0\n",
       "2016-07-02 06:00:00    1043.0\n",
       "2016-07-02 12:00:00    1043.0\n",
       "2016-07-02 18:00:00     679.0\n",
       "2016-07-03 00:00:00     679.0\n",
       "2016-07-03 06:00:00     679.0\n",
       "2016-07-03 12:00:00     679.0\n",
       "2016-07-03 18:00:00    1135.0\n",
       "2016-07-04 00:00:00    1135.0\n",
       "2016-07-04 06:00:00    1135.0\n",
       "2016-07-04 12:00:00    1135.0\n",
       "2016-07-04 18:00:00     822.0\n",
       "2016-07-05 00:00:00     822.0\n",
       "2016-07-05 06:00:00     822.0\n",
       "2016-07-05 12:00:00     822.0\n",
       "2016-07-05 18:00:00     978.0\n",
       "2016-07-06 00:00:00     978.0\n",
       "2016-07-06 06:00:00     978.0\n",
       "2016-07-06 12:00:00     978.0\n",
       "2016-07-06 18:00:00     835.0\n",
       "2016-07-07 00:00:00     835.0\n",
       "2016-07-07 06:00:00     835.0\n",
       "2016-07-07 12:00:00     835.0\n",
       "2016-07-07 18:00:00     590.0\n",
       "                        ...  \n",
       "2016-07-21 06:00:00    1194.0\n",
       "2016-07-21 12:00:00    1194.0\n",
       "2016-07-21 18:00:00     894.0\n",
       "2016-07-22 00:00:00     894.0\n",
       "2016-07-22 06:00:00     894.0\n",
       "2016-07-22 12:00:00     894.0\n",
       "2016-07-22 18:00:00     871.0\n",
       "2016-07-23 00:00:00     871.0\n",
       "2016-07-23 06:00:00     871.0\n",
       "2016-07-23 12:00:00     871.0\n",
       "2016-07-23 18:00:00     812.0\n",
       "2016-07-24 00:00:00     812.0\n",
       "2016-07-24 06:00:00     812.0\n",
       "2016-07-24 12:00:00     812.0\n",
       "2016-07-24 18:00:00     893.0\n",
       "2016-07-25 00:00:00     893.0\n",
       "2016-07-25 06:00:00     893.0\n",
       "2016-07-25 12:00:00     893.0\n",
       "2016-07-25 18:00:00     959.0\n",
       "2016-07-26 00:00:00     959.0\n",
       "2016-07-26 06:00:00     959.0\n",
       "2016-07-26 12:00:00     959.0\n",
       "2016-07-26 18:00:00     434.0\n",
       "2016-07-27 00:00:00     434.0\n",
       "2016-07-27 06:00:00     434.0\n",
       "2016-07-27 12:00:00     434.0\n",
       "2016-07-27 18:00:00     887.0\n",
       "2016-07-28 00:00:00     887.0\n",
       "2016-07-28 06:00:00     887.0\n",
       "2016-07-28 12:00:00     887.0\n",
       "Freq: 6H, Name: units, Length: 113, dtype: float64"
      ]
     },
     "execution_count": 19,
     "metadata": {},
     "output_type": "execute_result"
    }
   ],
   "source": [
    "sales_data['units'].resample('6H').sum().bfill()"
   ]
  },
  {
   "cell_type": "code",
   "execution_count": 20,
   "metadata": {
    "scrolled": true
   },
   "outputs": [
    {
     "data": {
      "text/plain": [
       "orderdate\n",
       "2016-06-30 12:00:00     829.0\n",
       "2016-06-30 18:00:00     829.0\n",
       "2016-07-01 00:00:00     829.0\n",
       "2016-07-01 06:00:00     829.0\n",
       "2016-07-01 12:00:00     836.0\n",
       "2016-07-01 18:00:00     836.0\n",
       "2016-07-02 00:00:00     836.0\n",
       "2016-07-02 06:00:00     836.0\n",
       "2016-07-02 12:00:00    1043.0\n",
       "2016-07-02 18:00:00    1043.0\n",
       "2016-07-03 00:00:00    1043.0\n",
       "2016-07-03 06:00:00    1043.0\n",
       "2016-07-03 12:00:00     679.0\n",
       "2016-07-03 18:00:00     679.0\n",
       "2016-07-04 00:00:00     679.0\n",
       "2016-07-04 06:00:00     679.0\n",
       "2016-07-04 12:00:00    1135.0\n",
       "2016-07-04 18:00:00    1135.0\n",
       "2016-07-05 00:00:00    1135.0\n",
       "2016-07-05 06:00:00    1135.0\n",
       "2016-07-05 12:00:00     822.0\n",
       "2016-07-05 18:00:00     822.0\n",
       "2016-07-06 00:00:00     822.0\n",
       "2016-07-06 06:00:00     822.0\n",
       "2016-07-06 12:00:00     978.0\n",
       "2016-07-06 18:00:00     978.0\n",
       "2016-07-07 00:00:00     978.0\n",
       "2016-07-07 06:00:00     978.0\n",
       "2016-07-07 12:00:00     835.0\n",
       "2016-07-07 18:00:00     835.0\n",
       "                        ...  \n",
       "2016-07-21 06:00:00     622.0\n",
       "2016-07-21 12:00:00    1194.0\n",
       "2016-07-21 18:00:00    1194.0\n",
       "2016-07-22 00:00:00    1194.0\n",
       "2016-07-22 06:00:00    1194.0\n",
       "2016-07-22 12:00:00     894.0\n",
       "2016-07-22 18:00:00     894.0\n",
       "2016-07-23 00:00:00     894.0\n",
       "2016-07-23 06:00:00     894.0\n",
       "2016-07-23 12:00:00     871.0\n",
       "2016-07-23 18:00:00     871.0\n",
       "2016-07-24 00:00:00     871.0\n",
       "2016-07-24 06:00:00     871.0\n",
       "2016-07-24 12:00:00     812.0\n",
       "2016-07-24 18:00:00     812.0\n",
       "2016-07-25 00:00:00     812.0\n",
       "2016-07-25 06:00:00     812.0\n",
       "2016-07-25 12:00:00     893.0\n",
       "2016-07-25 18:00:00     893.0\n",
       "2016-07-26 00:00:00     893.0\n",
       "2016-07-26 06:00:00     893.0\n",
       "2016-07-26 12:00:00     959.0\n",
       "2016-07-26 18:00:00     959.0\n",
       "2016-07-27 00:00:00     959.0\n",
       "2016-07-27 06:00:00     959.0\n",
       "2016-07-27 12:00:00     434.0\n",
       "2016-07-27 18:00:00     434.0\n",
       "2016-07-28 00:00:00     434.0\n",
       "2016-07-28 06:00:00     434.0\n",
       "2016-07-28 12:00:00     887.0\n",
       "Freq: 6H, Name: units, Length: 113, dtype: float64"
      ]
     },
     "execution_count": 20,
     "metadata": {},
     "output_type": "execute_result"
    }
   ],
   "source": [
    "sales_data['units'].resample('6H').sum().ffill()"
   ]
  },
  {
   "cell_type": "code",
   "execution_count": 21,
   "metadata": {
    "scrolled": true
   },
   "outputs": [
    {
     "data": {
      "text/plain": [
       "orderdate\n",
       "2016-07-03    3387\n",
       "2016-07-10    6384\n",
       "2016-07-17    6585\n",
       "2016-07-24    6313\n",
       "2016-07-31    3173\n",
       "Freq: W-SUN, Name: units, dtype: int64"
      ]
     },
     "execution_count": 21,
     "metadata": {},
     "output_type": "execute_result"
    }
   ],
   "source": [
    "sales_data['units'].resample('W').sum().ffill()"
   ]
  },
  {
   "cell_type": "code",
   "execution_count": null,
   "metadata": {
    "collapsed": true
   },
   "outputs": [],
   "source": []
  }
 ],
 "metadata": {
  "kernelspec": {
   "display_name": "Python 3",
   "language": "python",
   "name": "python3"
  },
  "language_info": {
   "codemirror_mode": {
    "name": "ipython",
    "version": 3
   },
   "file_extension": ".py",
   "mimetype": "text/x-python",
   "name": "python",
   "nbconvert_exporter": "python",
   "pygments_lexer": "ipython3",
   "version": "3.6.1"
  },
  "varInspector": {
   "cols": {
    "lenName": 16,
    "lenType": 16,
    "lenVar": 40
   },
   "kernels_config": {
    "python": {
     "delete_cmd_postfix": "",
     "delete_cmd_prefix": "del ",
     "library": "var_list.py",
     "varRefreshCmd": "print(var_dic_list())"
    },
    "r": {
     "delete_cmd_postfix": ") ",
     "delete_cmd_prefix": "rm(",
     "library": "var_list.r",
     "varRefreshCmd": "cat(var_dic_list()) "
    }
   },
   "types_to_exclude": [
    "module",
    "function",
    "builtin_function_or_method",
    "instance",
    "_Feature"
   ],
   "window_display": false
  }
 },
 "nbformat": 4,
 "nbformat_minor": 2
}
